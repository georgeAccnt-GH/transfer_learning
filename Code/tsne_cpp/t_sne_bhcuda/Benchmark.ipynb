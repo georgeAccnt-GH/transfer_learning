{
 "cells": [
  {
   "cell_type": "markdown",
   "metadata": {},
   "source": [
    "## Benchmark comparing sklearn and GPU TSNE\n",
    "\n",
    "GPU TSNE source:  https://github.com/georgedimitriadis/t_sne_bhcuda\n",
    "\n",
    "Sklearn TSNE: http://scikit-learn.org/stable/modules/generated/sklearn.manifold.TSNE.html"
   ]
  },
  {
   "cell_type": "code",
   "execution_count": 1,
   "metadata": {
    "collapsed": true
   },
   "outputs": [],
   "source": [
    "import t_sne_bhcuda.bhtsne_cuda as tsne_bhcuda\n",
    "import matplotlib.pyplot as plt\n",
    "import numpy as np\n",
    "import os"
   ]
  },
  {
   "cell_type": "code",
   "execution_count": 2,
   "metadata": {
    "collapsed": true
   },
   "outputs": [],
   "source": [
    "perplexity = 10.0\n",
    "theta = 0.5\n",
    "learning_rate = 200.0\n",
    "iterations = 2000\n",
    "gpu_mem = 0.8\n",
    "files_dir='tsne_results'"
   ]
  },
  {
   "cell_type": "code",
   "execution_count": 3,
   "metadata": {
    "collapsed": true
   },
   "outputs": [],
   "source": [
    "def plot_tsne(t_sne_result):\n",
    "    t_sne_result_plot = np.transpose(t_sne_result)\n",
    "    fig = plt.figure()\n",
    "    ax = fig.add_subplot(111)\n",
    "    ax.scatter(t_sne_result_plot[0], t_sne_result_plot[1])\n",
    "    plt.show()"
   ]
  },
  {
   "cell_type": "code",
   "execution_count": 4,
   "metadata": {
    "collapsed": true
   },
   "outputs": [],
   "source": [
    "data_for_tsne = np.random.rand(1000, 1000) # type: numpy.float64"
   ]
  },
  {
   "cell_type": "markdown",
   "metadata": {},
   "source": [
    "#### TSNE with GPU"
   ]
  },
  {
   "cell_type": "code",
   "execution_count": 5,
   "metadata": {},
   "outputs": [
    {
     "name": "stdout",
     "output_type": "stream",
     "text": [
      "Read the 1000 x 1000 data matrix successfully!\n",
      "Using current time as random seed...\n",
      "Using no_dims = 2, perplexity = 10.000000, learning rate = 200.000000, and theta = 0.500000\n",
      "Computing input similarities...\n",
      "\n",
      "Device Name = Tesla P100-PCIE-16GB\n",
      "multiProcessorCount: 56\n",
      "totalGlobalMem (in MB): 16276.250000\n",
      "totalGlobalMem (in GB): 15.894775\n",
      "sharedMemPerBlock (in bytes): 49152\n",
      "Maximum number of threads per block: 1024\n",
      "Maximum size of each dimension of a block: 1024 x 1024 x 64\n",
      "Maximum sizes of each dimension of a grid: 2147483647 x 65535 x 65535\n",
      "Compute capability of the device = 6.0\n",
      "canMapHostMemory: TRUE\n",
      "deviceOverlap: TRUE\n",
      "GPU memory usage: used = 15898.000000 MB, free = 378.250000 MB, total = 16276.250000 MB\n",
      "\n",
      "GPU iteration = 0, distance elements calculated = 1000000\n",
      "GPU memory usage: used = 15910.000000 MB, free = 366.250000 MB, total = 16276.250000 MB\n",
      "Time spent in calculating all distances in GPU: 0.379578\n",
      "Building tree...\n",
      " - Building tree and finding perplexities, point 0 of 1000\n",
      "Time spent building tree and finding perplexities: 0.473097\n",
      "Input similarities computed in 1.10 seconds (sparsity = 0.048254)\n",
      "\n",
      "Learning embedding...\n",
      "Iteration 50: error is 135.092799 (50 iterations in 0.66 seconds)\n",
      "Iteration 100: error is 132.450053 (50 iterations in 0.68 seconds)\n",
      "Iteration 150: error is 142.542460 (50 iterations in 0.93 seconds)\n",
      "Iteration 200: error is 143.394711 (50 iterations in 0.69 seconds)\n",
      "Iteration 250: error is 8.783097 (50 iterations in 0.73 seconds)\n",
      "Iteration 300: error is 4.886245 (50 iterations in 0.75 seconds)\n",
      "Iteration 350: error is 3.757800 (50 iterations in 0.58 seconds)\n",
      "Iteration 400: error is 3.650198 (50 iterations in 0.38 seconds)\n",
      "Iteration 450: error is 3.556720 (50 iterations in 0.40 seconds)\n",
      "Iteration 500: error is 3.545227 (50 iterations in 0.40 seconds)\n",
      "Iteration 550: error is 3.541237 (50 iterations in 0.40 seconds)\n",
      "Iteration 600: error is 3.539125 (50 iterations in 0.41 seconds)\n",
      "Iteration 650: error is 3.537394 (50 iterations in 0.41 seconds)\n",
      "Iteration 700: error is 3.536754 (50 iterations in 0.41 seconds)\n",
      "Iteration 750: error is 3.535506 (50 iterations in 0.42 seconds)\n",
      "Iteration 800: error is 3.535347 (50 iterations in 0.42 seconds)\n",
      "Iteration 850: error is 3.534974 (50 iterations in 0.41 seconds)\n",
      "Iteration 900: error is 3.534763 (50 iterations in 0.42 seconds)\n",
      "Iteration 950: error is 3.535487 (50 iterations in 0.42 seconds)\n",
      "Iteration 1000: error is 3.535614 (50 iterations in 0.42 seconds)\n",
      "Iteration 1050: error is 3.535540 (50 iterations in 0.42 seconds)\n",
      "Iteration 1100: error is 3.535132 (50 iterations in 0.42 seconds)\n",
      "Iteration 1150: error is 3.535258 (50 iterations in 0.43 seconds)\n",
      "Iteration 1200: error is 3.535351 (50 iterations in 0.43 seconds)\n",
      "Iteration 1250: error is 3.535271 (50 iterations in 0.43 seconds)\n",
      "Iteration 1300: error is 3.535313 (50 iterations in 0.42 seconds)\n",
      "Iteration 1350: error is 3.535446 (50 iterations in 0.43 seconds)\n",
      "Iteration 1400: error is 3.535296 (50 iterations in 0.43 seconds)\n",
      "Iteration 1450: error is 3.534749 (50 iterations in 0.43 seconds)\n",
      "Iteration 1500: error is 3.535126 (50 iterations in 0.43 seconds)\n",
      "Iteration 1550: error is 3.535196 (50 iterations in 0.43 seconds)\n",
      "Iteration 1600: error is 3.534845 (50 iterations in 0.42 seconds)\n",
      "Iteration 1650: error is 3.534099 (50 iterations in 0.43 seconds)\n",
      "Iteration 1700: error is 3.535162 (50 iterations in 0.44 seconds)\n",
      "Iteration 1750: error is 3.535171 (50 iterations in 0.42 seconds)\n",
      "Iteration 1800: error is 3.535473 (50 iterations in 0.42 seconds)\n",
      "Iteration 1850: error is 3.535698 (50 iterations in 0.42 seconds)\n",
      "Iteration 1900: error is 3.535096 (50 iterations in 0.42 seconds)\n",
      "Iteration 1950: error is 3.534444 (50 iterations in 0.42 seconds)\n",
      "Iteration 1999: error is 3.535191 (50 iterations in 0.41 seconds)\n",
      "Fitting performed in 18.83 seconds.\n",
      "Wrote the 1000 x 2 data matrix successfully!\n",
      "\n",
      "T-sne required 20.513124 seconds (0.341885 minutes) to run\n",
      "CPU times: user 123 ms, sys: 59.1 ms, total: 182 ms\n",
      "Wall time: 20.6 s\n"
     ]
    }
   ],
   "source": [
    "%%time\n",
    "t_sne_result_gpu = tsne_bhcuda.t_sne(samples=data_for_tsne, use_scikit=False, files_dir=files_dir,\n",
    "                        no_dims=2, perplexity=perplexity, eta=learning_rate, theta=theta,\n",
    "                        iterations=iterations, gpu_mem=gpu_mem, randseed=-1, verbose=2)\n"
   ]
  },
  {
   "cell_type": "code",
   "execution_count": 6,
   "metadata": {},
   "outputs": [
    {
     "name": "stdout",
     "output_type": "stream",
     "text": [
      "(1000, 2)\n"
     ]
    },
    {
     "data": {
      "image/png": "[encoded data removed]",
      "text/plain": [
       "<matplotlib.figure.Figure at 0x7fc2b63022e8>"
      ]
     },
     "metadata": {},
     "output_type": "display_data"
    }
   ],
   "source": [
    "print(t_sne_result_gpu.shape)\n",
    "plot_tsne(t_sne_result_gpu)"
   ]
  },
  {
   "cell_type": "markdown",
   "metadata": {
    "collapsed": true
   },
   "source": [
    "#### TSNE Sklearn"
   ]
  },
  {
   "cell_type": "code",
   "execution_count": 7,
   "metadata": {},
   "outputs": [
    {
     "name": "stdout",
     "output_type": "stream",
     "text": [
      "[t-SNE] Computing 31 nearest neighbors...\n",
      "[t-SNE] Indexed 1000 samples in 0.015s...\n",
      "[t-SNE] Computed neighbors for 1000 samples in 1.643s...\n",
      "[t-SNE] Computed conditional probabilities for sample 1000 / 1000\n",
      "[t-SNE] Mean sigma: 1.285718\n",
      "[t-SNE] Computed conditional probabilities in 0.226s\n",
      "[t-SNE] Iteration 50: error = 23.3307991, gradient norm = 0.0601652 (50 iterations in 0.916s)\n",
      "[t-SNE] Iteration 100: error = 23.3804913, gradient norm = 0.0404596 (50 iterations in 0.935s)\n",
      "[t-SNE] Iteration 150: error = 23.4897747, gradient norm = 0.0635168 (50 iterations in 0.971s)\n",
      "[t-SNE] Iteration 200: error = 23.1315193, gradient norm = 0.0760415 (50 iterations in 0.957s)\n",
      "[t-SNE] Iteration 250: error = 23.8753319, gradient norm = 0.0530310 (50 iterations in 1.077s)\n",
      "[t-SNE] KL divergence after 250 iterations with early exaggeration: 23.875332\n",
      "[t-SNE] Iteration 300: error = 3.1502802, gradient norm = 0.0026996 (50 iterations in 0.748s)\n",
      "[t-SNE] Iteration 350: error = 2.9944384, gradient norm = 0.0006783 (50 iterations in 0.706s)\n",
      "[t-SNE] Iteration 400: error = 2.9331722, gradient norm = 0.0003525 (50 iterations in 0.702s)\n",
      "[t-SNE] Iteration 450: error = 2.9042532, gradient norm = 0.0002506 (50 iterations in 0.701s)\n",
      "[t-SNE] Iteration 500: error = 2.8878608, gradient norm = 0.0002128 (50 iterations in 0.688s)\n",
      "[t-SNE] Iteration 550: error = 2.8769174, gradient norm = 0.0001777 (50 iterations in 0.691s)\n",
      "[t-SNE] Iteration 600: error = 2.8699865, gradient norm = 0.0002324 (50 iterations in 0.691s)\n",
      "[t-SNE] Iteration 650: error = 2.8663092, gradient norm = 0.0001240 (50 iterations in 0.702s)\n",
      "[t-SNE] Iteration 700: error = 2.8635857, gradient norm = 0.0001021 (50 iterations in 0.716s)\n",
      "[t-SNE] Iteration 750: error = 2.8614504, gradient norm = 0.0000995 (50 iterations in 0.703s)\n",
      "[t-SNE] Iteration 800: error = 2.8592350, gradient norm = 0.0000942 (50 iterations in 0.700s)\n",
      "[t-SNE] Iteration 850: error = 2.8576722, gradient norm = 0.0000955 (50 iterations in 0.701s)\n",
      "[t-SNE] Iteration 900: error = 2.8561449, gradient norm = 0.0001315 (50 iterations in 0.707s)\n",
      "[t-SNE] Iteration 950: error = 2.8544216, gradient norm = 0.0001833 (50 iterations in 0.723s)\n",
      "[t-SNE] Iteration 1000: error = 2.8534107, gradient norm = 0.0000955 (50 iterations in 0.731s)\n",
      "[t-SNE] Iteration 1050: error = 2.8527226, gradient norm = 0.0001037 (50 iterations in 0.735s)\n",
      "[t-SNE] Iteration 1100: error = 2.8520269, gradient norm = 0.0000882 (50 iterations in 0.736s)\n",
      "[t-SNE] Iteration 1150: error = 2.8514509, gradient norm = 0.0000895 (50 iterations in 0.721s)\n",
      "[t-SNE] Iteration 1200: error = 2.8507819, gradient norm = 0.0000930 (50 iterations in 0.715s)\n",
      "[t-SNE] Iteration 1250: error = 2.8507404, gradient norm = 0.0000990 (50 iterations in 0.716s)\n",
      "[t-SNE] Iteration 1300: error = 2.8503196, gradient norm = 0.0001070 (50 iterations in 0.725s)\n",
      "[t-SNE] Iteration 1350: error = 2.8500884, gradient norm = 0.0001012 (50 iterations in 0.739s)\n",
      "[t-SNE] Iteration 1400: error = 2.8497980, gradient norm = 0.0000990 (50 iterations in 0.741s)\n",
      "[t-SNE] Iteration 1450: error = 2.8493278, gradient norm = 0.0001038 (50 iterations in 0.744s)\n",
      "[t-SNE] Iteration 1500: error = 2.8490891, gradient norm = 0.0000916 (50 iterations in 0.742s)\n",
      "[t-SNE] Iteration 1550: error = 2.8487701, gradient norm = 0.0000860 (50 iterations in 0.737s)\n",
      "[t-SNE] Iteration 1600: error = 2.8480992, gradient norm = 0.0000906 (50 iterations in 0.747s)\n",
      "[t-SNE] Iteration 1650: error = 2.8478870, gradient norm = 0.0000779 (50 iterations in 0.727s)\n",
      "[t-SNE] Iteration 1700: error = 2.8477006, gradient norm = 0.0000833 (50 iterations in 0.727s)\n",
      "[t-SNE] Iteration 1750: error = 2.8476205, gradient norm = 0.0001037 (50 iterations in 0.726s)\n",
      "[t-SNE] Iteration 1800: error = 2.8471773, gradient norm = 0.0000986 (50 iterations in 0.728s)\n",
      "[t-SNE] Iteration 1850: error = 2.8465612, gradient norm = 0.0000972 (50 iterations in 0.732s)\n",
      "[t-SNE] Iteration 1900: error = 2.8459868, gradient norm = 0.0000967 (50 iterations in 0.732s)\n",
      "[t-SNE] Iteration 1950: error = 2.8449452, gradient norm = 0.0001136 (50 iterations in 0.735s)\n",
      "[t-SNE] Iteration 2000: error = 2.8448801, gradient norm = 0.0000920 (50 iterations in 0.734s)\n",
      "[t-SNE] Error after 2000 iterations: 2.844880\n",
      "CPU times: user 27.1 s, sys: 5.17 s, total: 32.3 s\n",
      "Wall time: 32.3 s\n"
     ]
    }
   ],
   "source": [
    "%%time\n",
    "t_sne_result_sklearn = tsne_bhcuda.t_sne(samples=data_for_tsne, use_scikit=True, files_dir=files_dir,\n",
    "                        no_dims=2, perplexity=perplexity, eta=learning_rate, theta=theta,\n",
    "                        iterations=iterations, gpu_mem=gpu_mem, randseed=-1, verbose=2)"
   ]
  },
  {
   "cell_type": "code",
   "execution_count": 8,
   "metadata": {},
   "outputs": [
    {
     "name": "stdout",
     "output_type": "stream",
     "text": [
      "(1000, 2)\n"
     ]
    },
    {
     "data": {
      "image/png": "[encoded data removed]",
      "text/plain": [
       "<matplotlib.figure.Figure at 0x7fc2b5b3a2b0>"
      ]
     },
     "metadata": {},
     "output_type": "display_data"
    }
   ],
   "source": [
    "print(t_sne_result_sklearn.shape)\n",
    "plot_tsne(t_sne_result_sklearn)"
   ]
  }
 ],
 "metadata": {
  "kernelspec": {
   "display_name": "Python 3",
   "language": "python",
   "name": "python3"
  },
  "language_info": {
   "codemirror_mode": {
    "name": "ipython",
    "version": 3
   },
   "file_extension": ".py",
   "mimetype": "text/x-python",
   "name": "python",
   "nbconvert_exporter": "python",
   "pygments_lexer": "ipython3",
   "version": "3.5.4"
  }
 },
 "nbformat": 4,
 "nbformat_minor": 2
}
